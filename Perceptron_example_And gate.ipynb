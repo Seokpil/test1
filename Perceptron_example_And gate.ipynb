{
 "cells": [
  {
   "cell_type": "code",
   "execution_count": 6,
   "metadata": {},
   "outputs": [],
   "source": [
    "import numpy as np\n",
    "\n",
    "class Perceptron():\n",
    "    def __init__(self, thresholds=0.0, eta=0.1, n_iter=10):\n",
    "        self.thresholds = thresholds\n",
    "        self.eta = eta\n",
    "        self.n_iter = n_iter\n",
    "    def fit(self,x,y):\n",
    "        self.w_ = np.zeros(1+x.shape[1])\n",
    "        self.errors_ = []\n",
    "\n",
    "        for _ in range(self.n_iter):\n",
    "            errors = 0\n",
    "            for xi, target in zip(x,y):\n",
    "                update = self.eta * (target-self.predict(xi))\n",
    "                self.w_[1:] += update*xi\n",
    "                self.w_[0] += update\n",
    "                errors += int(update!=0.0)\n",
    "            self.errors_.append(errors)\n",
    "            print(self.w_)\n",
    "\n",
    "        return self\n",
    "\n",
    "    def net_input(self,x):\n",
    "        return np.dot(x,self.w_[1:])+self.w_[0]\n",
    "\n",
    "    def predict(self,x):\n",
    "        return np.where(self.net_input(x) > self.thresholds, 1, -1)"
   ]
  },
  {
   "cell_type": "code",
   "execution_count": 12,
   "metadata": {},
   "outputs": [
    {
     "name": "stdout",
     "output_type": "stream",
     "text": [
      "[0.2 0.  0.2]\n",
      "[0.2 0.2 0.2]\n",
      "[0.  0.2 0.2]\n",
      "[0.  0.2 0.2]\n",
      "[0.  0.2 0.2]\n",
      "[0.  0.2 0.2]\n",
      "[0.  0.2 0.2]\n",
      "[0.  0.2 0.2]\n",
      "[0.  0.2 0.2]\n",
      "[0.  0.2 0.2]\n",
      "[1, 2, 1, 0, 0, 0, 0, 0, 0, 0]\n"
     ]
    }
   ],
   "source": [
    "import numpy as np\n",
    "\n",
    "if __name__ == \"__main__\":\n",
    "    x = np.array([[0,0],[0,1],[1,0],[1,1]])\n",
    "    y = np.array([-1,1,1,1])\n",
    "\n",
    "    ppn = Perceptron(eta=0.1)\n",
    "    ppn.fit(x,y)\n",
    "    print(ppn.errors_)"
   ]
  },
  {
   "cell_type": "code",
   "execution_count": null,
   "metadata": {},
   "outputs": [],
   "source": []
  }
 ],
 "metadata": {
  "kernelspec": {
   "display_name": "Python 3",
   "language": "python",
   "name": "python3"
  },
  "language_info": {
   "codemirror_mode": {
    "name": "ipython",
    "version": 3
   },
   "file_extension": ".py",
   "mimetype": "text/x-python",
   "name": "python",
   "nbconvert_exporter": "python",
   "pygments_lexer": "ipython3",
   "version": "3.6.5"
  }
 },
 "nbformat": 4,
 "nbformat_minor": 2
}
