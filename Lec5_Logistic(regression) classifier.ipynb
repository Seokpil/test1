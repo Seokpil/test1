{
 "cells": [
  {
   "cell_type": "code",
   "execution_count": 4,
   "metadata": {},
   "outputs": [],
   "source": [
    "import tensorflow as tf\n",
    "\n",
    "x_data = [[1,2], [2,3], [3,1], [4,3], [5,3], [6,2]]\n",
    "y_data = [[0],[0],[0],[1],[1],[1]]"
   ]
  },
  {
   "cell_type": "code",
   "execution_count": 5,
   "metadata": {},
   "outputs": [],
   "source": [
    "# placeholders for a tensor that will be always fed.\n",
    "X = tf.placeholder(tf.float32, shape = [None,2])\n",
    "Y = tf.placeholder(tf.float32, shape = [None,1])\n",
    "\n",
    "W = tf.Variable(tf.random_normal([2,1]), name = 'weight')\n",
    "b = tf.Variable(tf.random_normal([1]), name = 'bias')"
   ]
  },
  {
   "cell_type": "code",
   "execution_count": 6,
   "metadata": {},
   "outputs": [],
   "source": [
    "# Hypothesis using sigmoid: tf.div(1., 1. + tf.exp(tf.matmul(X, W)))\n",
    "hypothesis = tf.sigmoid(tf.matmul(X, W) + b)\n",
    "# cost/Loss function\n",
    "cost = -tf.reduce_mean(Y * tf.log(hypothesis) + (1 - Y) * tf.log(1 - hypothesis))\n",
    "train = tf.train.GradientDescentOptimizer(learning_rate=0.01).minimize(cost)"
   ]
  },
  {
   "cell_type": "code",
   "execution_count": 12,
   "metadata": {},
   "outputs": [
    {
     "name": "stdout",
     "output_type": "stream",
     "text": [
      "0 1.3164473\n",
      "200 0.80455154\n",
      "400 0.58418113\n",
      "600 0.494504\n",
      "800 0.45081052\n",
      "1000 0.42415774\n",
      "1200 0.40478262\n",
      "1400 0.38898584\n",
      "1600 0.37520048\n",
      "1800 0.3627001\n",
      "2000 0.3511213\n",
      "2200 0.34026802\n",
      "2400 0.33002657\n",
      "2600 0.32032493\n",
      "2800 0.31111306\n",
      "3000 0.3023532\n",
      "3200 0.29401413\n",
      "3400 0.2860697\n",
      "3600 0.27849588\n",
      "3800 0.27127096\n",
      "4000 0.26437482\n",
      "4200 0.2577888\n",
      "4400 0.25149503\n",
      "4600 0.24547718\n",
      "4800 0.23971955\n",
      "5000 0.23420773\n",
      "5200 0.2289279\n",
      "5400 0.22386736\n",
      "5600 0.21901399\n",
      "5800 0.21435635\n",
      "6000 0.20988409\n",
      "6200 0.20558715\n",
      "6400 0.2014562\n",
      "6600 0.19748253\n",
      "6800 0.19365801\n",
      "7000 0.18997486\n",
      "7200 0.18642586\n",
      "7400 0.18300426\n",
      "7600 0.17970367\n",
      "7800 0.17651814\n",
      "8000 0.17344213\n",
      "8200 0.1704702\n",
      "8400 0.16759747\n",
      "8600 0.1648192\n",
      "8800 0.16213113\n",
      "9000 0.15952899\n",
      "9200 0.1570089\n",
      "9400 0.15456712\n",
      "9600 0.1522002\n",
      "9800 0.14990485\n",
      "10000 0.147678\n",
      "\n",
      "Hypothesis:  [[0.02997962]\n",
      " [0.15780397]\n",
      " [0.30120495]\n",
      " [0.7830601 ]\n",
      " [0.9406274 ]\n",
      " [0.98052245]] \n",
      "Correct (Y):  [[0.]\n",
      " [0.]\n",
      " [0.]\n",
      " [1.]\n",
      " [1.]\n",
      " [1.]] \n",
      "Accuracy:  1.0\n"
     ]
    }
   ],
   "source": [
    "# Accuracy computation\n",
    "# True if hypothesis > 0.5 else False\n",
    "predicted = tf.cast(hypothesis > 0.5, dtype = tf.float32)\n",
    "accuracy = tf.reduce_mean(tf.cast(tf.equal(predicted, Y), dtype = tf.float32))\n",
    "\n",
    "# Launch graph\n",
    "with tf.Session() as sess:\n",
    "    # Initialize TensorFlow variables\n",
    "    sess.run(tf.global_variables_initializer())\n",
    "    \n",
    "    for step in range(10001):\n",
    "        cost_val, _ = sess.run([cost, train], feed_dict={X: x_data, Y: y_data})\n",
    "        if step % 200 == 0:\n",
    "            print(step, cost_val)\n",
    "            \n",
    "    # Accuracy report\n",
    "    h, c, a = sess.run([hypothesis, predicted, accuracy], feed_dict={X: x_data, Y: y_data})\n",
    "    print(\"\\nHypothesis: \", h, \"\\nCorrect (Y): \", c, \"\\nAccuracy: \", a)"
   ]
  },
  {
   "cell_type": "code",
   "execution_count": null,
   "metadata": {},
   "outputs": [],
   "source": []
  },
  {
   "cell_type": "code",
   "execution_count": null,
   "metadata": {},
   "outputs": [],
   "source": []
  },
  {
   "cell_type": "code",
   "execution_count": null,
   "metadata": {},
   "outputs": [],
   "source": []
  },
  {
   "cell_type": "code",
   "execution_count": null,
   "metadata": {},
   "outputs": [],
   "source": []
  }
 ],
 "metadata": {
  "kernelspec": {
   "display_name": "Python 3",
   "language": "python",
   "name": "python3"
  },
  "language_info": {
   "codemirror_mode": {
    "name": "ipython",
    "version": 3
   },
   "file_extension": ".py",
   "mimetype": "text/x-python",
   "name": "python",
   "nbconvert_exporter": "python",
   "pygments_lexer": "ipython3",
   "version": "3.6.5"
  }
 },
 "nbformat": 4,
 "nbformat_minor": 2
}
