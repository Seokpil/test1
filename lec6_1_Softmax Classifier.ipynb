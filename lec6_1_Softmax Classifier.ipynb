{
 "cells": [
  {
   "cell_type": "code",
   "execution_count": 14,
   "metadata": {},
   "outputs": [],
   "source": [
    "import tensorflow as tf\n",
    "\n",
    "x_data = [[1,2,1,1], [2,1,3,2], [3,1,3,4], [4,1,5,5], [1,7,5,5], [1,2,5,6], [1,6,6,6], [1,7,7,7]]\n",
    "\n",
    "y_data = [[0,0,1], [0,0,1], [0,0,1], [0,1,0], [0,1,0], [0,1,0], [1,0,0], [1,0,0]]"
   ]
  },
  {
   "cell_type": "code",
   "execution_count": 15,
   "metadata": {},
   "outputs": [],
   "source": [
    "X = tf.placeholder(\"float\", [None, 4])\n",
    "Y = tf.placeholder(\"float\", [None, 3])\n",
    "\n",
    "# Y의 개수가 클래스의 개수\n",
    "nb_classes = 3\n",
    "# Shape 주의!                  [X:들어오는 값, Y:나가는 값]\n",
    "W = tf.Variable(tf.random_normal([4, nb_classes], name='weight'))\n",
    "#                              [Y:나가는 값]\n",
    "b = tf.Variable(tf.random_normal([nb_classes]), name='bias')"
   ]
  },
  {
   "cell_type": "code",
   "execution_count": 16,
   "metadata": {},
   "outputs": [],
   "source": [
    "# tf.nn.softmax computes softmax activations\n",
    "# softmax = exp(Logits) / reduce_sum(exp(Logits), dim)\n",
    "hypothesis = tf.nn.softmax(tf.matmul(X, W) + b)"
   ]
  },
  {
   "cell_type": "code",
   "execution_count": 17,
   "metadata": {},
   "outputs": [],
   "source": [
    "# Cross entropy cost/ Loss\n",
    "cost = tf.reduce_mean(-tf.reduce_sum(Y * tf.log(hypothesis), axis = 1))\n",
    "optimizer = tf.train.GradientDescentOptimizer(learning_rate=0.1).minimize(cost)"
   ]
  },
  {
   "cell_type": "code",
   "execution_count": 22,
   "metadata": {},
   "outputs": [
    {
     "name": "stdout",
     "output_type": "stream",
     "text": [
      "0 7.7921066\n",
      "200 0.5672696\n",
      "400 0.4604665\n",
      "600 0.3817428\n",
      "800 0.307855\n",
      "1000 0.24518806\n",
      "1200 0.22121336\n",
      "1400 0.2015673\n",
      "1600 0.18502909\n",
      "1800 0.17091668\n",
      "2000 0.15873787\n"
     ]
    }
   ],
   "source": [
    "# Launch graph\n",
    "sess = tf.Session()\n",
    "\n",
    "#with tf.Session() as sess:\n",
    "sess.run(tf.global_variables_initializer())\n",
    "    \n",
    "for step in range(2001):\n",
    "    sess.run(optimizer, feed_dict={X: x_data, Y: y_data})\n",
    "    if step % 200 == 0:\n",
    "         print(step, sess.run(cost, feed_dict={X: x_data, Y: y_data}))"
   ]
  },
  {
   "cell_type": "code",
   "execution_count": 26,
   "metadata": {},
   "outputs": [
    {
     "name": "stdout",
     "output_type": "stream",
     "text": [
      "[[9.0885879e-03 9.9090284e-01 8.5372658e-06]] [1]\n",
      "-------------------\n",
      "[[0.8168941  0.17003942 0.01306647]] [0]\n",
      "-------------------\n",
      "[[1.3321367e-08 3.5533306e-04 9.9964464e-01]] [2]\n",
      "-------------------\n",
      "[[9.0885879e-03 9.9090284e-01 8.5372658e-06]\n",
      " [8.1689417e-01 1.7003942e-01 1.3066473e-02]\n",
      " [1.3321367e-08 3.5533306e-04 9.9964464e-01]] [1 0 2]\n"
     ]
    }
   ],
   "source": [
    "# 출력 : Testing & One-hot encoding\n",
    "a = sess.run(hypothesis, feed_dict= {X: [[1, 11, 7, 9]]})\n",
    "#print(a, sess.run(tf.arg_max(a,1)))    // arg_max  -> argmax로 변경됨 by Version\n",
    "print(a, sess.run(tf.argmax(a,1)))\n",
    "\n",
    "print('-------------------')\n",
    "\n",
    "b = sess.run(hypothesis, feed_dict={X: [[1, 3, 4, 3]]})\n",
    "print(b, sess.run(tf.argmax(b,1)))\n",
    "\n",
    "print('-------------------')\n",
    "\n",
    "c = sess.run(hypothesis, feed_dict={X: [[1, 1, 0, 1]]})\n",
    "print(c, sess.run(tf.argmax(c,1)))\n",
    "\n",
    "print('-------------------') \n",
    "\n",
    "all = sess.run(hypothesis, feed_dict={X: [[1, 11, 7, 9], [1, 3, 4, 3], [1, 1, 0, 1]]})\n",
    "print(all, sess.run(tf.argmax(all,1)))"
   ]
  },
  {
   "cell_type": "code",
   "execution_count": null,
   "metadata": {},
   "outputs": [],
   "source": []
  }
 ],
 "metadata": {
  "kernelspec": {
   "display_name": "Python 3",
   "language": "python",
   "name": "python3"
  },
  "language_info": {
   "codemirror_mode": {
    "name": "ipython",
    "version": 3
   },
   "file_extension": ".py",
   "mimetype": "text/x-python",
   "name": "python",
   "nbconvert_exporter": "python",
   "pygments_lexer": "ipython3",
   "version": "3.6.5"
  }
 },
 "nbformat": 4,
 "nbformat_minor": 2
}
