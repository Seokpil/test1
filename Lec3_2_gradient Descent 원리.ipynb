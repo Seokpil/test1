{
 "cells": [
  {
   "cell_type": "code",
   "execution_count": 2,
   "metadata": {},
   "outputs": [],
   "source": [
    "# Gradient Descent를 활용한 cost 최소값 구하기\n",
    "import tensorflow as tf\n",
    "x_data = [1,2,3]\n",
    "y_data = [1,2,3]"
   ]
  },
  {
   "cell_type": "code",
   "execution_count": 3,
   "metadata": {},
   "outputs": [],
   "source": [
    "W = tf.Variable(tf.random_normal([1]), name = 'weight')\n",
    "X = tf.placeholder(tf.float32)\n",
    "Y = tf.placeholder(tf.float32)"
   ]
  },
  {
   "cell_type": "code",
   "execution_count": 4,
   "metadata": {},
   "outputs": [],
   "source": [
    "# Our hypothesis for Linear model X * W\n",
    "hypothesis = X * W"
   ]
  },
  {
   "cell_type": "code",
   "execution_count": 5,
   "metadata": {},
   "outputs": [],
   "source": [
    "# cost/Loss function\n",
    "cost = tf.reduce_sum(tf.square(hypothesis - Y))"
   ]
  },
  {
   "cell_type": "code",
   "execution_count": 6,
   "metadata": {},
   "outputs": [],
   "source": [
    "# Minimize : Gradient Descent using derivative : W -= Learning_rate * derivative\n",
    "learning_rate = 0.1\n",
    "gradient = tf.reduce_mean((W * X - Y)* X)\n",
    "descent = W - learning_rate * gradient\n",
    "update = W.assign(descent)"
   ]
  },
  {
   "cell_type": "code",
   "execution_count": 7,
   "metadata": {},
   "outputs": [],
   "source": [
    "# Launch the graph in a session\n",
    "sess = tf.Session()"
   ]
  },
  {
   "cell_type": "code",
   "execution_count": 8,
   "metadata": {},
   "outputs": [
    {
     "name": "stdout",
     "output_type": "stream",
     "text": [
      "0 9.101966 [0.19368714]\n",
      "1 2.589004 [0.56996644]\n",
      "2 0.73642766 [0.7706488]\n",
      "3 0.20947279 [0.87767935]\n",
      "4 0.05958338 [0.9347623]\n",
      "5 0.016948178 [0.96520656]\n",
      "6 0.0048207855 [0.9814435]\n",
      "7 0.0013712607 [0.9901032]\n",
      "8 0.00039004284 [0.9947217]\n",
      "9 0.0001109455 [0.99718493]\n",
      "10 3.1558582e-05 [0.9984986]\n",
      "11 8.9769055e-06 [0.9991993]\n",
      "12 2.5535633e-06 [0.99957293]\n",
      "13 7.262582e-07 [0.99977225]\n",
      "14 2.0649709e-07 [0.9998785]\n",
      "15 5.87457e-08 [0.9999352]\n",
      "16 1.673186e-08 [0.9999654]\n",
      "17 4.7556235e-09 [0.9999816]\n",
      "18 1.3576376e-09 [0.99999017]\n",
      "19 3.85171e-10 [0.99999475]\n",
      "20 1.0887291e-10 [0.9999972]\n"
     ]
    }
   ],
   "source": [
    "# Initializes global variables in the graph\n",
    "sess.run(tf.global_variables_initializer())\n",
    "for step in range(21):\n",
    "    sess.run(update, feed_dict={X: x_data, Y: y_data})\n",
    "    \n",
    "    # step, cost, W를 출력\n",
    "    print(step, sess.run(cost, feed_dict={X: x_data, Y: y_data}), sess.run(W))"
   ]
  },
  {
   "cell_type": "code",
   "execution_count": null,
   "metadata": {},
   "outputs": [],
   "source": []
  }
 ],
 "metadata": {
  "kernelspec": {
   "display_name": "Python 3",
   "language": "python",
   "name": "python3"
  },
  "language_info": {
   "codemirror_mode": {
    "name": "ipython",
    "version": 3
   },
   "file_extension": ".py",
   "mimetype": "text/x-python",
   "name": "python",
   "nbconvert_exporter": "python",
   "pygments_lexer": "ipython3",
   "version": "3.6.5"
  }
 },
 "nbformat": 4,
 "nbformat_minor": 2
}
